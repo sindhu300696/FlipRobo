{
 "cells": [
  {
   "cell_type": "code",
   "execution_count": 1,
   "metadata": {},
   "outputs": [],
   "source": [
    "import selenium\n",
    "import pandas as pd\n",
    "from selenium import webdriver"
   ]
  },
  {
   "cell_type": "code",
   "execution_count": 2,
   "metadata": {},
   "outputs": [],
   "source": [
    "driver=webdriver.Chrome(\"C:/Users/smanivasagan/chromedriver.exe\")\n",
    "driver.get(\"https://www.glassdoor.co.in/Salaries/index.htm\")"
   ]
  },
  {
   "cell_type": "code",
   "execution_count": 3,
   "metadata": {},
   "outputs": [],
   "source": [
    "search_job=driver.find_element_by_id(\"KeywordSearch\")\n",
    "search_job.send_keys(\"Data scientist\")"
   ]
  },
  {
   "cell_type": "code",
   "execution_count": 4,
   "metadata": {},
   "outputs": [],
   "source": [
    "search_job=driver.find_element_by_id(\"LocationSearch\")\n",
    "search_job.send_keys(\"Noida\")"
   ]
  },
  {
   "cell_type": "code",
   "execution_count": 16,
   "metadata": {},
   "outputs": [],
   "source": [
    "url=\"https://www.glassdoor.co.in/Salaries/new-delhi-data-scientist-salary-SRCH_IL.0,9_IM1083_KO10,24.htm?clickSource=searchBtn\""
   ]
  },
  {
   "cell_type": "code",
   "execution_count": 17,
   "metadata": {},
   "outputs": [],
   "source": [
    "driver.get(url)"
   ]
  },
  {
   "cell_type": "code",
   "execution_count": 7,
   "metadata": {},
   "outputs": [],
   "source": [
    "range=[]\n",
    "savg=[]\n",
    "company=[]\n",
    "rate=[]"
   ]
  },
  {
   "cell_type": "code",
   "execution_count": 5,
   "metadata": {},
   "outputs": [
    {
     "data": {
      "text/plain": [
       "[<selenium.webdriver.remote.webelement.WebElement (session=\"2ac11ad73a2f0628e202e1dcbc91dd57\", element=\"220b1ae5-0daa-4dfe-8f4c-8d480392c30d\")>,\n",
       " <selenium.webdriver.remote.webelement.WebElement (session=\"2ac11ad73a2f0628e202e1dcbc91dd57\", element=\"6f44fe5c-4006-4f1a-98d1-902d38486740\")>,\n",
       " <selenium.webdriver.remote.webelement.WebElement (session=\"2ac11ad73a2f0628e202e1dcbc91dd57\", element=\"1cdcad89-2108-4686-bcac-8b49038d3976\")>,\n",
       " <selenium.webdriver.remote.webelement.WebElement (session=\"2ac11ad73a2f0628e202e1dcbc91dd57\", element=\"97e02007-9fdb-4b7b-9862-98e51b6ee5a1\")>]"
      ]
     },
     "execution_count": 5,
     "metadata": {},
     "output_type": "execute_result"
    }
   ],
   "source": [
    "companies_tags=driver.find_elements_by_xpath(\"//p[@class='m-0 ']\")\n",
    "companies_tags[0:4]"
   ]
  },
  {
   "cell_type": "code",
   "execution_count": 8,
   "metadata": {},
   "outputs": [
    {
     "data": {
      "text/plain": [
       "['Delhivery',\n",
       " 'Ericsson-Worldwide',\n",
       " 'Tata Consultancy Services',\n",
       " 'Accenture',\n",
       " 'IBM',\n",
       " 'UnitedHealth Group',\n",
       " 'Valiance Solutions',\n",
       " 'Innovaccer',\n",
       " 'Cognizant Technology Solutions']"
      ]
     },
     "execution_count": 8,
     "metadata": {},
     "output_type": "execute_result"
    }
   ],
   "source": [
    "for i in companies_tags:\n",
    "    company_name=i.text\n",
    "    company.append(company_name)\n",
    "company[0:9]"
   ]
  },
  {
   "cell_type": "code",
   "execution_count": 9,
   "metadata": {},
   "outputs": [
    {
     "data": {
      "text/plain": [
       "[<selenium.webdriver.remote.webelement.WebElement (session=\"2ac11ad73a2f0628e202e1dcbc91dd57\", element=\"c83ee556-7906-40eb-a44e-fa0fc8e547c9\")>,\n",
       " <selenium.webdriver.remote.webelement.WebElement (session=\"2ac11ad73a2f0628e202e1dcbc91dd57\", element=\"a624a764-6455-4363-8115-4f39a6ebbb6f\")>,\n",
       " <selenium.webdriver.remote.webelement.WebElement (session=\"2ac11ad73a2f0628e202e1dcbc91dd57\", element=\"143e81d8-c292-4f10-b817-d66c6f803733\")>,\n",
       " <selenium.webdriver.remote.webelement.WebElement (session=\"2ac11ad73a2f0628e202e1dcbc91dd57\", element=\"3a47ec02-c845-4c72-9855-415823565d3c\")>]"
      ]
     },
     "execution_count": 9,
     "metadata": {},
     "output_type": "execute_result"
    }
   ],
   "source": [
    "average_tags=driver.find_elements_by_xpath(\"//p[@class='d-block d-md-none m-0']\")\n",
    "average_tags[0:4]"
   ]
  },
  {
   "cell_type": "code",
   "execution_count": 11,
   "metadata": {},
   "outputs": [
    {
     "data": {
      "text/plain": [
       "['₹ 12,64,182/yr',\n",
       " '₹ 7,41,935/yr',\n",
       " '₹ 5,99,668/yr',\n",
       " '₹ 9,94,055/yr',\n",
       " '₹ 7,39,040/yr',\n",
       " '₹ 13,37,114/yr',\n",
       " '₹ 7,80,374/yr',\n",
       " '₹ 11,98,792/yr',\n",
       " '₹ 10,08,143/yr']"
      ]
     },
     "execution_count": 11,
     "metadata": {},
     "output_type": "execute_result"
    }
   ],
   "source": [
    "for i in average_tags:\n",
    "    avg_name=i.text\n",
    "    savg.append(avg_name)\n",
    "savg[0:9]"
   ]
  },
  {
   "cell_type": "code",
   "execution_count": 13,
   "metadata": {},
   "outputs": [
    {
     "data": {
      "text/plain": [
       "[<selenium.webdriver.remote.webelement.WebElement (session=\"2ac11ad73a2f0628e202e1dcbc91dd57\", element=\"ae2329c4-5b8f-4f2b-ab3a-bb21eacee548\")>,\n",
       " <selenium.webdriver.remote.webelement.WebElement (session=\"2ac11ad73a2f0628e202e1dcbc91dd57\", element=\"7bb27e72-b123-4f24-a355-33d21e63503c\")>,\n",
       " <selenium.webdriver.remote.webelement.WebElement (session=\"2ac11ad73a2f0628e202e1dcbc91dd57\", element=\"0ae95bfe-6c18-457f-ac00-4512ddde0170\")>,\n",
       " <selenium.webdriver.remote.webelement.WebElement (session=\"2ac11ad73a2f0628e202e1dcbc91dd57\", element=\"3734d51a-99ce-4abd-9be0-381c77cc7b12\")>]"
      ]
     },
     "execution_count": 13,
     "metadata": {},
     "output_type": "execute_result"
    }
   ],
   "source": [
    "range_tags=driver.find_elements_by_xpath(\"//p[@class='d-block d-md-none m-0 css-1kuy7z7']\")\n",
    "range_tags[0:4]"
   ]
  },
  {
   "cell_type": "code",
   "execution_count": 14,
   "metadata": {},
   "outputs": [
    {
     "data": {
      "text/plain": [
       "['Range: ₹450K - ₹11,630K',\n",
       " 'Range: ₹420K - ₹1,614K',\n",
       " 'Range: ₹336K - ₹1,010K',\n",
       " 'Range: ₹577K - ₹2,215K',\n",
       " 'Range: ₹587K - ₹2,732K',\n",
       " 'Range: ₹717K - ₹1,575K',\n",
       " 'Range: ₹502K - ₹1,152K',\n",
       " 'Range: ₹621K - ₹1,696K',\n",
       " 'Range: ₹793K - ₹1,264K']"
      ]
     },
     "execution_count": 14,
     "metadata": {},
     "output_type": "execute_result"
    }
   ],
   "source": [
    "for i in range_tags:\n",
    "    range_name=i.text\n",
    "    range.append(range_name)\n",
    "range[0:9]"
   ]
  },
  {
   "cell_type": "code",
   "execution_count": 15,
   "metadata": {},
   "outputs": [],
   "source": [
    "jobs=pd.DataFrame({})\n",
    "jobs['title']=company[0:9]\n",
    "jobs['average']=savg[0:9]\n",
    "jobs['range']=range[0:9]"
   ]
  },
  {
   "cell_type": "code",
   "execution_count": 16,
   "metadata": {},
   "outputs": [
    {
     "data": {
      "text/html": [
       "<div>\n",
       "<style scoped>\n",
       "    .dataframe tbody tr th:only-of-type {\n",
       "        vertical-align: middle;\n",
       "    }\n",
       "\n",
       "    .dataframe tbody tr th {\n",
       "        vertical-align: top;\n",
       "    }\n",
       "\n",
       "    .dataframe thead th {\n",
       "        text-align: right;\n",
       "    }\n",
       "</style>\n",
       "<table border=\"1\" class=\"dataframe\">\n",
       "  <thead>\n",
       "    <tr style=\"text-align: right;\">\n",
       "      <th></th>\n",
       "      <th>title</th>\n",
       "      <th>average</th>\n",
       "      <th>range</th>\n",
       "    </tr>\n",
       "  </thead>\n",
       "  <tbody>\n",
       "    <tr>\n",
       "      <th>0</th>\n",
       "      <td>Delhivery</td>\n",
       "      <td>₹ 12,64,182/yr</td>\n",
       "      <td>Range: ₹450K - ₹11,630K</td>\n",
       "    </tr>\n",
       "    <tr>\n",
       "      <th>1</th>\n",
       "      <td>Ericsson-Worldwide</td>\n",
       "      <td>₹ 7,41,935/yr</td>\n",
       "      <td>Range: ₹420K - ₹1,614K</td>\n",
       "    </tr>\n",
       "    <tr>\n",
       "      <th>2</th>\n",
       "      <td>Tata Consultancy Services</td>\n",
       "      <td>₹ 5,99,668/yr</td>\n",
       "      <td>Range: ₹336K - ₹1,010K</td>\n",
       "    </tr>\n",
       "    <tr>\n",
       "      <th>3</th>\n",
       "      <td>Accenture</td>\n",
       "      <td>₹ 9,94,055/yr</td>\n",
       "      <td>Range: ₹577K - ₹2,215K</td>\n",
       "    </tr>\n",
       "    <tr>\n",
       "      <th>4</th>\n",
       "      <td>IBM</td>\n",
       "      <td>₹ 7,39,040/yr</td>\n",
       "      <td>Range: ₹587K - ₹2,732K</td>\n",
       "    </tr>\n",
       "    <tr>\n",
       "      <th>5</th>\n",
       "      <td>UnitedHealth Group</td>\n",
       "      <td>₹ 13,37,114/yr</td>\n",
       "      <td>Range: ₹717K - ₹1,575K</td>\n",
       "    </tr>\n",
       "    <tr>\n",
       "      <th>6</th>\n",
       "      <td>Valiance Solutions</td>\n",
       "      <td>₹ 7,80,374/yr</td>\n",
       "      <td>Range: ₹502K - ₹1,152K</td>\n",
       "    </tr>\n",
       "    <tr>\n",
       "      <th>7</th>\n",
       "      <td>Innovaccer</td>\n",
       "      <td>₹ 11,98,792/yr</td>\n",
       "      <td>Range: ₹621K - ₹1,696K</td>\n",
       "    </tr>\n",
       "    <tr>\n",
       "      <th>8</th>\n",
       "      <td>Cognizant Technology Solutions</td>\n",
       "      <td>₹ 10,08,143/yr</td>\n",
       "      <td>Range: ₹793K - ₹1,264K</td>\n",
       "    </tr>\n",
       "  </tbody>\n",
       "</table>\n",
       "</div>"
      ],
      "text/plain": [
       "                            title         average                    range\n",
       "0                       Delhivery  ₹ 12,64,182/yr  Range: ₹450K - ₹11,630K\n",
       "1              Ericsson-Worldwide   ₹ 7,41,935/yr   Range: ₹420K - ₹1,614K\n",
       "2       Tata Consultancy Services   ₹ 5,99,668/yr   Range: ₹336K - ₹1,010K\n",
       "3                       Accenture   ₹ 9,94,055/yr   Range: ₹577K - ₹2,215K\n",
       "4                             IBM   ₹ 7,39,040/yr   Range: ₹587K - ₹2,732K\n",
       "5              UnitedHealth Group  ₹ 13,37,114/yr   Range: ₹717K - ₹1,575K\n",
       "6              Valiance Solutions   ₹ 7,80,374/yr   Range: ₹502K - ₹1,152K\n",
       "7                      Innovaccer  ₹ 11,98,792/yr   Range: ₹621K - ₹1,696K\n",
       "8  Cognizant Technology Solutions  ₹ 10,08,143/yr   Range: ₹793K - ₹1,264K"
      ]
     },
     "execution_count": 16,
     "metadata": {},
     "output_type": "execute_result"
    }
   ],
   "source": [
    "jobs"
   ]
  },
  {
   "cell_type": "code",
   "execution_count": null,
   "metadata": {},
   "outputs": [],
   "source": []
  }
 ],
 "metadata": {
  "kernelspec": {
   "display_name": "Python 3",
   "language": "python",
   "name": "python3"
  },
  "language_info": {
   "codemirror_mode": {
    "name": "ipython",
    "version": 3
   },
   "file_extension": ".py",
   "mimetype": "text/x-python",
   "name": "python",
   "nbconvert_exporter": "python",
   "pygments_lexer": "ipython3",
   "version": "3.8.3"
  }
 },
 "nbformat": 4,
 "nbformat_minor": 4
}
