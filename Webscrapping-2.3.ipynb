{
 "cells": [
  {
   "cell_type": "code",
   "execution_count": 1,
   "metadata": {},
   "outputs": [
    {
     "name": "stdout",
     "output_type": "stream",
     "text": [
      "Requirement already satisfied: selenium in c:\\programdata\\anaconda3\\lib\\site-packages (3.141.0)\n",
      "Requirement already satisfied: urllib3 in c:\\programdata\\anaconda3\\lib\\site-packages (from selenium) (1.25.9)\n"
     ]
    }
   ],
   "source": [
    "! pip install selenium"
   ]
  },
  {
   "cell_type": "code",
   "execution_count": 2,
   "metadata": {},
   "outputs": [],
   "source": [
    "import selenium\n",
    "import pandas as pd\n",
    "from selenium import webdriver"
   ]
  },
  {
   "cell_type": "code",
   "execution_count": 3,
   "metadata": {},
   "outputs": [],
   "source": [
    "driver=webdriver.Chrome(\"C:/Users/smanivasagan/chromedriver.exe\")\n",
    "driver.get(\"https://www.naukri.com/\")"
   ]
  },
  {
   "cell_type": "code",
   "execution_count": 4,
   "metadata": {},
   "outputs": [],
   "source": [
    "search_job=driver.find_element_by_id(\"qsb-keyword-sugg\")\n",
    "search_job.send_keys(\"Data scientist\")"
   ]
  },
  {
   "cell_type": "code",
   "execution_count": 6,
   "metadata": {},
   "outputs": [],
   "source": [
    "search_btn=driver.find_element_by_xpath(\"//span[@class='ellipsis fleft']\").click()"
   ]
  },
  {
   "cell_type": "code",
   "execution_count": 11,
   "metadata": {},
   "outputs": [],
   "source": [
    "search_btn=driver.find_element_by_xpath(\"//i[@class='fleft naukicon naukicon-checkbox']\").click()"
   ]
  },
  {
   "cell_type": "code",
   "execution_count": 12,
   "metadata": {},
   "outputs": [],
   "source": [
    "job_titles=[]\n",
    "company=[]\n",
    "location1=[]\n",
    "exp=[]"
   ]
  },
  {
   "cell_type": "code",
   "execution_count": 13,
   "metadata": {},
   "outputs": [
    {
     "data": {
      "text/plain": [
       "[<selenium.webdriver.remote.webelement.WebElement (session=\"42295797eb3656b6ed1d6596c8312501\", element=\"cf5fd45d-9062-40c6-8d70-9626730bb511\")>,\n",
       " <selenium.webdriver.remote.webelement.WebElement (session=\"42295797eb3656b6ed1d6596c8312501\", element=\"ba6bc78c-dd73-4f95-ad7c-deb82b1d8cc1\")>,\n",
       " <selenium.webdriver.remote.webelement.WebElement (session=\"42295797eb3656b6ed1d6596c8312501\", element=\"e21fe06f-6544-4612-9798-41ab10fe0f53\")>,\n",
       " <selenium.webdriver.remote.webelement.WebElement (session=\"42295797eb3656b6ed1d6596c8312501\", element=\"24a2bf71-271c-4fac-9724-5b55d47f06d7\")>]"
      ]
     },
     "execution_count": 13,
     "metadata": {},
     "output_type": "execute_result"
    }
   ],
   "source": [
    "titles_tags=driver.find_elements_by_xpath(\"//a[@class='title fw500 ellipsis']\")\n",
    "titles_tags[0:4]"
   ]
  },
  {
   "cell_type": "code",
   "execution_count": 14,
   "metadata": {},
   "outputs": [
    {
     "data": {
      "text/plain": [
       "['Data Scientist',\n",
       " 'Data Scientist',\n",
       " 'Senior Data Scientist - Computer Vision',\n",
       " 'Data Scientist - Machine Learning/ NLP',\n",
       " 'Only Fresher / Data Scientist / Data Analyst / Analytics - MNC',\n",
       " 'Data Scientist',\n",
       " 'Data Scientist - Tableau/Power BI',\n",
       " 'GCP Skilled Analytics Resources (Data engineer / Data scientists)',\n",
       " 'Data Scientist - IT']"
      ]
     },
     "execution_count": 14,
     "metadata": {},
     "output_type": "execute_result"
    }
   ],
   "source": [
    "for i in titles_tags:\n",
    "    title=i.text\n",
    "    job_titles.append(title)\n",
    "job_titles[0:9]"
   ]
  },
  {
   "cell_type": "code",
   "execution_count": 15,
   "metadata": {},
   "outputs": [
    {
     "data": {
      "text/plain": [
       "[<selenium.webdriver.remote.webelement.WebElement (session=\"42295797eb3656b6ed1d6596c8312501\", element=\"04482551-f3b4-49c4-9abc-691ca842379f\")>,\n",
       " <selenium.webdriver.remote.webelement.WebElement (session=\"42295797eb3656b6ed1d6596c8312501\", element=\"c5d15c51-39a3-4369-b582-b5301e88264a\")>,\n",
       " <selenium.webdriver.remote.webelement.WebElement (session=\"42295797eb3656b6ed1d6596c8312501\", element=\"dd101109-be71-4f91-af95-b8d724cee281\")>,\n",
       " <selenium.webdriver.remote.webelement.WebElement (session=\"42295797eb3656b6ed1d6596c8312501\", element=\"15da5756-8d9d-40b4-bffd-d7fcd966ae82\")>]"
      ]
     },
     "execution_count": 15,
     "metadata": {},
     "output_type": "execute_result"
    }
   ],
   "source": [
    "companies_tags=driver.find_elements_by_xpath(\"//a[@class='subTitle ellipsis fleft']\")\n",
    "companies_tags[0:4]"
   ]
  },
  {
   "cell_type": "code",
   "execution_count": 16,
   "metadata": {},
   "outputs": [
    {
     "data": {
      "text/plain": [
       "['Country Veggie',\n",
       " 'IBM India Pvt. Limited',\n",
       " 'IRIS SOFTWARE Inc',\n",
       " 'TalPro',\n",
       " 'GABA Consultancy services',\n",
       " 'Ciena',\n",
       " 'Talent Stock Solutions',\n",
       " 'Aerial Telecom Solutions Pvt. Ltd.',\n",
       " 'Ehireo']"
      ]
     },
     "execution_count": 16,
     "metadata": {},
     "output_type": "execute_result"
    }
   ],
   "source": [
    "for i in companies_tags:\n",
    "    company_name=i.text\n",
    "    company.append(company_name)\n",
    "company[0:9]"
   ]
  },
  {
   "cell_type": "code",
   "execution_count": 17,
   "metadata": {},
   "outputs": [
    {
     "data": {
      "text/plain": [
       "[<selenium.webdriver.remote.webelement.WebElement (session=\"42295797eb3656b6ed1d6596c8312501\", element=\"f371a3b4-1d7b-4270-8154-c4f708ade997\")>,\n",
       " <selenium.webdriver.remote.webelement.WebElement (session=\"42295797eb3656b6ed1d6596c8312501\", element=\"985ba0a2-0bfb-4609-a7d4-6cb7bac19f89\")>,\n",
       " <selenium.webdriver.remote.webelement.WebElement (session=\"42295797eb3656b6ed1d6596c8312501\", element=\"867b1a0e-f80b-45fc-bb22-4c09b5fbbd6a\")>,\n",
       " <selenium.webdriver.remote.webelement.WebElement (session=\"42295797eb3656b6ed1d6596c8312501\", element=\"6573bb39-39a0-4b48-8ae8-6f8670e9a36f\")>]"
      ]
     },
     "execution_count": 17,
     "metadata": {},
     "output_type": "execute_result"
    }
   ],
   "source": [
    "location_tags=driver.find_elements_by_xpath(\"//li[@class='fleft grey-text br2 placeHolderLi location']\")\n",
    "location_tags[0:4]"
   ]
  },
  {
   "cell_type": "code",
   "execution_count": 18,
   "metadata": {},
   "outputs": [
    {
     "data": {
      "text/plain": [
       "['Ghaziabad, Bhopal, Lucknow, Kanpur, Rajkot, Bengaluru, Gurgaon, Agra, Bharuch, Jaunpur, Nagpur, Delhi, Mumbai, Jaipur, Jhansi',\n",
       " 'Gurgaon Gurugram',\n",
       " 'Delhi NCR',\n",
       " 'Gurgaon Gurugram',\n",
       " 'Delhi NCR, Noida, Gurgaon',\n",
       " 'Gurgaon Gurugram',\n",
       " 'Delhi',\n",
       " 'Pune, Bengaluru, Gurgaon',\n",
       " 'Gurgaon']"
      ]
     },
     "execution_count": 18,
     "metadata": {},
     "output_type": "execute_result"
    }
   ],
   "source": [
    "for i in location_tags:\n",
    "    location_name=i.text\n",
    "    location1.append(location_name)\n",
    "location1[0:9]"
   ]
  },
  {
   "cell_type": "code",
   "execution_count": 19,
   "metadata": {},
   "outputs": [
    {
     "data": {
      "text/plain": [
       "[<selenium.webdriver.remote.webelement.WebElement (session=\"42295797eb3656b6ed1d6596c8312501\", element=\"8cfa782d-e5a2-4918-929b-8f1276e44f6d\")>,\n",
       " <selenium.webdriver.remote.webelement.WebElement (session=\"42295797eb3656b6ed1d6596c8312501\", element=\"5a53cff7-08cb-4b25-9204-4e207ce151de\")>,\n",
       " <selenium.webdriver.remote.webelement.WebElement (session=\"42295797eb3656b6ed1d6596c8312501\", element=\"b62780bd-3a49-481a-a989-4381d128d967\")>,\n",
       " <selenium.webdriver.remote.webelement.WebElement (session=\"42295797eb3656b6ed1d6596c8312501\", element=\"dd633a5f-d64c-439f-a97f-c6f88ba44220\")>]"
      ]
     },
     "execution_count": 19,
     "metadata": {},
     "output_type": "execute_result"
    }
   ],
   "source": [
    "experience_tags=driver.find_elements_by_xpath(\"//li[@class='fleft grey-text br2 placeHolderLi experience']\")\n",
    "experience_tags[0:4]"
   ]
  },
  {
   "cell_type": "code",
   "execution_count": 20,
   "metadata": {},
   "outputs": [
    {
     "data": {
      "text/plain": [
       "['1-3 Yrs',\n",
       " '4-8 Yrs',\n",
       " '4-9 Yrs',\n",
       " '2-6 Yrs',\n",
       " '0-0 Yrs',\n",
       " '5-6 Yrs',\n",
       " '1-3 Yrs',\n",
       " '3-8 Yrs',\n",
       " '4-9 Yrs']"
      ]
     },
     "execution_count": 20,
     "metadata": {},
     "output_type": "execute_result"
    }
   ],
   "source": [
    "for i in experience_tags:\n",
    "    experience_name=i.text\n",
    "    exp.append(experience_name)\n",
    "exp[0:9]"
   ]
  },
  {
   "cell_type": "code",
   "execution_count": 22,
   "metadata": {},
   "outputs": [],
   "source": [
    "jobs1=pd.DataFrame({})\n",
    "jobs1['title']=company[0:10]\n",
    "jobs1['company']=job_titles[0:10]\n",
    "jobs1['exp']=exp[0:10]\n",
    "jobs1['location']=location1[0:10]"
   ]
  },
  {
   "cell_type": "code",
   "execution_count": 23,
   "metadata": {},
   "outputs": [
    {
     "data": {
      "text/html": [
       "<div>\n",
       "<style scoped>\n",
       "    .dataframe tbody tr th:only-of-type {\n",
       "        vertical-align: middle;\n",
       "    }\n",
       "\n",
       "    .dataframe tbody tr th {\n",
       "        vertical-align: top;\n",
       "    }\n",
       "\n",
       "    .dataframe thead th {\n",
       "        text-align: right;\n",
       "    }\n",
       "</style>\n",
       "<table border=\"1\" class=\"dataframe\">\n",
       "  <thead>\n",
       "    <tr style=\"text-align: right;\">\n",
       "      <th></th>\n",
       "      <th>title</th>\n",
       "      <th>company</th>\n",
       "      <th>exp</th>\n",
       "      <th>location</th>\n",
       "    </tr>\n",
       "  </thead>\n",
       "  <tbody>\n",
       "    <tr>\n",
       "      <th>0</th>\n",
       "      <td>Country Veggie</td>\n",
       "      <td>Data Scientist</td>\n",
       "      <td>1-3 Yrs</td>\n",
       "      <td>Ghaziabad, Bhopal, Lucknow, Kanpur, Rajkot, Be...</td>\n",
       "    </tr>\n",
       "    <tr>\n",
       "      <th>1</th>\n",
       "      <td>IBM India Pvt. Limited</td>\n",
       "      <td>Data Scientist</td>\n",
       "      <td>4-8 Yrs</td>\n",
       "      <td>Gurgaon Gurugram</td>\n",
       "    </tr>\n",
       "    <tr>\n",
       "      <th>2</th>\n",
       "      <td>IRIS SOFTWARE Inc</td>\n",
       "      <td>Senior Data Scientist - Computer Vision</td>\n",
       "      <td>4-9 Yrs</td>\n",
       "      <td>Delhi NCR</td>\n",
       "    </tr>\n",
       "    <tr>\n",
       "      <th>3</th>\n",
       "      <td>TalPro</td>\n",
       "      <td>Data Scientist - Machine Learning/ NLP</td>\n",
       "      <td>2-6 Yrs</td>\n",
       "      <td>Gurgaon Gurugram</td>\n",
       "    </tr>\n",
       "    <tr>\n",
       "      <th>4</th>\n",
       "      <td>GABA Consultancy services</td>\n",
       "      <td>Only Fresher / Data Scientist / Data Analyst /...</td>\n",
       "      <td>0-0 Yrs</td>\n",
       "      <td>Delhi NCR, Noida, Gurgaon</td>\n",
       "    </tr>\n",
       "    <tr>\n",
       "      <th>5</th>\n",
       "      <td>Ciena</td>\n",
       "      <td>Data Scientist</td>\n",
       "      <td>5-6 Yrs</td>\n",
       "      <td>Gurgaon Gurugram</td>\n",
       "    </tr>\n",
       "    <tr>\n",
       "      <th>6</th>\n",
       "      <td>Talent Stock Solutions</td>\n",
       "      <td>Data Scientist - Tableau/Power BI</td>\n",
       "      <td>1-3 Yrs</td>\n",
       "      <td>Delhi</td>\n",
       "    </tr>\n",
       "    <tr>\n",
       "      <th>7</th>\n",
       "      <td>Aerial Telecom Solutions Pvt. Ltd.</td>\n",
       "      <td>GCP Skilled Analytics Resources (Data engineer...</td>\n",
       "      <td>3-8 Yrs</td>\n",
       "      <td>Pune, Bengaluru, Gurgaon</td>\n",
       "    </tr>\n",
       "    <tr>\n",
       "      <th>8</th>\n",
       "      <td>Ehireo</td>\n",
       "      <td>Data Scientist - IT</td>\n",
       "      <td>4-9 Yrs</td>\n",
       "      <td>Gurgaon</td>\n",
       "    </tr>\n",
       "    <tr>\n",
       "      <th>9</th>\n",
       "      <td>Delhivery</td>\n",
       "      <td>Data Scientist Machine Learning</td>\n",
       "      <td>1-3 Yrs</td>\n",
       "      <td>Gurgaon</td>\n",
       "    </tr>\n",
       "  </tbody>\n",
       "</table>\n",
       "</div>"
      ],
      "text/plain": [
       "                                title  \\\n",
       "0                      Country Veggie   \n",
       "1              IBM India Pvt. Limited   \n",
       "2                   IRIS SOFTWARE Inc   \n",
       "3                              TalPro   \n",
       "4           GABA Consultancy services   \n",
       "5                               Ciena   \n",
       "6              Talent Stock Solutions   \n",
       "7  Aerial Telecom Solutions Pvt. Ltd.   \n",
       "8                              Ehireo   \n",
       "9                           Delhivery   \n",
       "\n",
       "                                             company      exp  \\\n",
       "0                                     Data Scientist  1-3 Yrs   \n",
       "1                                     Data Scientist  4-8 Yrs   \n",
       "2            Senior Data Scientist - Computer Vision  4-9 Yrs   \n",
       "3             Data Scientist - Machine Learning/ NLP  2-6 Yrs   \n",
       "4  Only Fresher / Data Scientist / Data Analyst /...  0-0 Yrs   \n",
       "5                                     Data Scientist  5-6 Yrs   \n",
       "6                  Data Scientist - Tableau/Power BI  1-3 Yrs   \n",
       "7  GCP Skilled Analytics Resources (Data engineer...  3-8 Yrs   \n",
       "8                                Data Scientist - IT  4-9 Yrs   \n",
       "9                    Data Scientist Machine Learning  1-3 Yrs   \n",
       "\n",
       "                                            location  \n",
       "0  Ghaziabad, Bhopal, Lucknow, Kanpur, Rajkot, Be...  \n",
       "1                                   Gurgaon Gurugram  \n",
       "2                                          Delhi NCR  \n",
       "3                                   Gurgaon Gurugram  \n",
       "4                          Delhi NCR, Noida, Gurgaon  \n",
       "5                                   Gurgaon Gurugram  \n",
       "6                                              Delhi  \n",
       "7                           Pune, Bengaluru, Gurgaon  \n",
       "8                                            Gurgaon  \n",
       "9                                            Gurgaon  "
      ]
     },
     "execution_count": 23,
     "metadata": {},
     "output_type": "execute_result"
    }
   ],
   "source": [
    "jobs1"
   ]
  },
  {
   "cell_type": "code",
   "execution_count": null,
   "metadata": {},
   "outputs": [],
   "source": []
  }
 ],
 "metadata": {
  "kernelspec": {
   "display_name": "Python 3",
   "language": "python",
   "name": "python3"
  },
  "language_info": {
   "codemirror_mode": {
    "name": "ipython",
    "version": 3
   },
   "file_extension": ".py",
   "mimetype": "text/x-python",
   "name": "python",
   "nbconvert_exporter": "python",
   "pygments_lexer": "ipython3",
   "version": "3.8.3"
  }
 },
 "nbformat": 4,
 "nbformat_minor": 4
}
