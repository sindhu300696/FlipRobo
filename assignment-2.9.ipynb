{
 "cells": [
  {
   "cell_type": "code",
   "execution_count": 1,
   "metadata": {},
   "outputs": [
    {
     "name": "stdout",
     "output_type": "stream",
     "text": [
      "Requirement already satisfied: selenium in c:\\programdata\\anaconda3\\lib\\site-packages (3.141.0)\n",
      "Requirement already satisfied: urllib3 in c:\\programdata\\anaconda3\\lib\\site-packages (from selenium) (1.25.9)\n"
     ]
    }
   ],
   "source": [
    "! pip install selenium"
   ]
  },
  {
   "cell_type": "code",
   "execution_count": 2,
   "metadata": {},
   "outputs": [],
   "source": [
    "import selenium\n",
    "import pandas as pd\n",
    "from selenium import webdriver"
   ]
  },
  {
   "cell_type": "code",
   "execution_count": 3,
   "metadata": {},
   "outputs": [],
   "source": [
    "driver=webdriver.Chrome(\"C:/Users/smanivasagan/chromedriver.exe\")\n",
    "driver.get(\"https://www.myntra.com/shoes\")"
   ]
  },
  {
   "cell_type": "code",
   "execution_count": null,
   "metadata": {},
   "outputs": [],
   "source": [
    "search_btn=driver.find_element_by_id(\"//label[@class='common-customCheckbox vertical-filters-label\").click()"
   ]
  },
  {
   "cell_type": "code",
   "execution_count": 4,
   "metadata": {},
   "outputs": [],
   "source": [
    "url=\"https://www.myntra.com/shoes?f=Color%3ABlack_36454f&plaEnabled=false&rf=Price%3A6657.0_13105.0_6657.0%20TO%2013105.0\""
   ]
  },
  {
   "cell_type": "code",
   "execution_count": 5,
   "metadata": {},
   "outputs": [],
   "source": [
    "driver.get(url)"
   ]
  },
  {
   "cell_type": "code",
   "execution_count": 6,
   "metadata": {},
   "outputs": [],
   "source": [
    "branda1=[]\n",
    "product=[]\n",
    "price=[]\n",
    "discount=[]"
   ]
  },
  {
   "cell_type": "code",
   "execution_count": 7,
   "metadata": {},
   "outputs": [
    {
     "data": {
      "text/plain": [
       "[<selenium.webdriver.remote.webelement.WebElement (session=\"c10605b1b43bd9b3d1433f95578a10a7\", element=\"2772b7aa-b1b2-4cda-84ec-24e1e33c561f\")>,\n",
       " <selenium.webdriver.remote.webelement.WebElement (session=\"c10605b1b43bd9b3d1433f95578a10a7\", element=\"74111b6f-95b8-42e5-bce8-867177270e82\")>,\n",
       " <selenium.webdriver.remote.webelement.WebElement (session=\"c10605b1b43bd9b3d1433f95578a10a7\", element=\"a5fb37fb-cd05-4d30-9ae7-d552161011ee\")>,\n",
       " <selenium.webdriver.remote.webelement.WebElement (session=\"c10605b1b43bd9b3d1433f95578a10a7\", element=\"08a5f7ea-8fec-4ac3-a415-1531d17ec26b\")>]"
      ]
     },
     "execution_count": 7,
     "metadata": {},
     "output_type": "execute_result"
    }
   ],
   "source": [
    "brand_tags=driver.find_elements_by_xpath(\"//h3[@class='product-brand']\")\n",
    "brand_tags[0:4]"
   ]
  },
  {
   "cell_type": "code",
   "execution_count": 8,
   "metadata": {},
   "outputs": [
    {
     "data": {
      "text/plain": [
       "['Nike',\n",
       " 'Nike',\n",
       " 'Nike',\n",
       " 'ADIDAS',\n",
       " 'Nike',\n",
       " 'Nike',\n",
       " 'Nike',\n",
       " 'Nike',\n",
       " 'Nike',\n",
       " 'Nike']"
      ]
     },
     "execution_count": 8,
     "metadata": {},
     "output_type": "execute_result"
    }
   ],
   "source": [
    "for i in brand_tags:\n",
    "    branda_name=i.text\n",
    "    branda1.append(branda_name)\n",
    "branda1[0:10]"
   ]
  },
  {
   "cell_type": "code",
   "execution_count": 9,
   "metadata": {},
   "outputs": [
    {
     "data": {
      "text/plain": [
       "[<selenium.webdriver.remote.webelement.WebElement (session=\"c10605b1b43bd9b3d1433f95578a10a7\", element=\"ab5a62b4-0525-411a-9c5d-7bd16c48a19b\")>,\n",
       " <selenium.webdriver.remote.webelement.WebElement (session=\"c10605b1b43bd9b3d1433f95578a10a7\", element=\"ca28d70a-4185-45cb-bb1d-c38717e22f25\")>,\n",
       " <selenium.webdriver.remote.webelement.WebElement (session=\"c10605b1b43bd9b3d1433f95578a10a7\", element=\"807d84c1-8b66-4925-afc4-77c864286066\")>,\n",
       " <selenium.webdriver.remote.webelement.WebElement (session=\"c10605b1b43bd9b3d1433f95578a10a7\", element=\"a511baec-1b17-4019-ae07-529e1256dfc6\")>]"
      ]
     },
     "execution_count": 9,
     "metadata": {},
     "output_type": "execute_result"
    }
   ],
   "source": [
    "product_tags=driver.find_elements_by_xpath(\"//h4[@class='product-product']\")\n",
    "product_tags[0:4]"
   ]
  },
  {
   "cell_type": "code",
   "execution_count": 10,
   "metadata": {},
   "outputs": [
    {
     "data": {
      "text/plain": [
       "['Men React Infinity Running',\n",
       " \"Men JORDAN ZOOM '92 Shoes\",\n",
       " 'Men AIR ZOOM VOMERO Running',\n",
       " 'Men SOLAR DRIVE 19 M Running',\n",
       " 'ZOOM FREAK 2 Basketball Shoes',\n",
       " 'Men JORDAN DELTA Basketball',\n",
       " 'Women REACT Running Shoes',\n",
       " 'Men AIR ZOOM Running Shoes',\n",
       " 'AIR ZOOM PEGASUS Running Shoes',\n",
       " 'Men JOYRIDE Running Shoes']"
      ]
     },
     "execution_count": 10,
     "metadata": {},
     "output_type": "execute_result"
    }
   ],
   "source": [
    "for i in product_tags:\n",
    "    product_name=i.text\n",
    "    product.append(product_name)\n",
    "product[0:10]"
   ]
  },
  {
   "cell_type": "code",
   "execution_count": 11,
   "metadata": {},
   "outputs": [
    {
     "data": {
      "text/plain": [
       "[<selenium.webdriver.remote.webelement.WebElement (session=\"c10605b1b43bd9b3d1433f95578a10a7\", element=\"5abba553-2e5a-44a7-84f0-8c12d7e565ad\")>,\n",
       " <selenium.webdriver.remote.webelement.WebElement (session=\"c10605b1b43bd9b3d1433f95578a10a7\", element=\"46f251c0-a2a3-4562-98a1-e7b68ee4d1e4\")>,\n",
       " <selenium.webdriver.remote.webelement.WebElement (session=\"c10605b1b43bd9b3d1433f95578a10a7\", element=\"278526f6-682d-4136-8a6b-0cc19351992e\")>,\n",
       " <selenium.webdriver.remote.webelement.WebElement (session=\"c10605b1b43bd9b3d1433f95578a10a7\", element=\"116f8c44-c0c4-4214-ade8-203cb20fafd2\")>]"
      ]
     },
     "execution_count": 11,
     "metadata": {},
     "output_type": "execute_result"
    }
   ],
   "source": [
    "price_tags=driver.find_elements_by_xpath(\"//span[@class='product-discountedPrice']\")\n",
    "price_tags[0:4]"
   ]
  },
  {
   "cell_type": "code",
   "execution_count": 12,
   "metadata": {},
   "outputs": [
    {
     "data": {
      "text/plain": [
       "['Rs. 11931',\n",
       " 'Rs. 10796',\n",
       " 'Rs. 10796',\n",
       " 'Rs. 8399',\n",
       " 'Rs. 8236',\n",
       " 'Rs. 9236',\n",
       " 'Rs. 8236',\n",
       " 'Rs. 8621',\n",
       " 'Rs. 11996',\n",
       " 'Rs. 7996']"
      ]
     },
     "execution_count": 12,
     "metadata": {},
     "output_type": "execute_result"
    }
   ],
   "source": [
    "for i in price_tags:\n",
    "    price_name=i.text\n",
    "    price.append(price_name)\n",
    "price[0:10]"
   ]
  },
  {
   "cell_type": "code",
   "execution_count": 13,
   "metadata": {},
   "outputs": [
    {
     "data": {
      "text/plain": [
       "[<selenium.webdriver.remote.webelement.WebElement (session=\"c10605b1b43bd9b3d1433f95578a10a7\", element=\"f2215d0c-8b8c-447c-abca-cd0ed1ac4cb3\")>,\n",
       " <selenium.webdriver.remote.webelement.WebElement (session=\"c10605b1b43bd9b3d1433f95578a10a7\", element=\"e1e9547d-ba39-4ab2-9854-7ec803cc9259\")>,\n",
       " <selenium.webdriver.remote.webelement.WebElement (session=\"c10605b1b43bd9b3d1433f95578a10a7\", element=\"589c14be-1c4f-432c-98ff-935a7302bf13\")>,\n",
       " <selenium.webdriver.remote.webelement.WebElement (session=\"c10605b1b43bd9b3d1433f95578a10a7\", element=\"5a5c2864-d6bd-4f81-b985-8fd1160081b4\")>]"
      ]
     },
     "execution_count": 13,
     "metadata": {},
     "output_type": "execute_result"
    }
   ],
   "source": [
    "discount_tags=driver.find_elements_by_xpath(\"//span[@class='product-discountPercentage']\")\n",
    "discount_tags[0:4]"
   ]
  },
  {
   "cell_type": "code",
   "execution_count": 14,
   "metadata": {},
   "outputs": [
    {
     "data": {
      "text/plain": [
       "['(23% OFF)',\n",
       " '(20% OFF)',\n",
       " '(20% OFF)',\n",
       " '(30% OFF)',\n",
       " '(20% OFF)',\n",
       " '(23% OFF)',\n",
       " '(20% OFF)',\n",
       " '(25% OFF)',\n",
       " '(20% OFF)',\n",
       " '(20% OFF)']"
      ]
     },
     "execution_count": 14,
     "metadata": {},
     "output_type": "execute_result"
    }
   ],
   "source": [
    "for i in discount_tags:\n",
    "    discount_name=i.text\n",
    "    discount.append(discount_name)\n",
    "discount[0:10]"
   ]
  },
  {
   "cell_type": "code",
   "execution_count": 19,
   "metadata": {},
   "outputs": [],
   "source": [
    "g1=pd.DataFrame({})\n",
    "g1['product']=branda1[0:20]\n",
    "g1['discount']=discount[0:20]\n",
    "g1['price']=price[0:20]\n",
    "g1['brand']=product[0:20]"
   ]
  },
  {
   "cell_type": "code",
   "execution_count": 20,
   "metadata": {},
   "outputs": [
    {
     "data": {
      "text/html": [
       "<div>\n",
       "<style scoped>\n",
       "    .dataframe tbody tr th:only-of-type {\n",
       "        vertical-align: middle;\n",
       "    }\n",
       "\n",
       "    .dataframe tbody tr th {\n",
       "        vertical-align: top;\n",
       "    }\n",
       "\n",
       "    .dataframe thead th {\n",
       "        text-align: right;\n",
       "    }\n",
       "</style>\n",
       "<table border=\"1\" class=\"dataframe\">\n",
       "  <thead>\n",
       "    <tr style=\"text-align: right;\">\n",
       "      <th></th>\n",
       "      <th>product</th>\n",
       "      <th>discount</th>\n",
       "      <th>price</th>\n",
       "      <th>brand</th>\n",
       "    </tr>\n",
       "  </thead>\n",
       "  <tbody>\n",
       "    <tr>\n",
       "      <th>0</th>\n",
       "      <td>Nike</td>\n",
       "      <td>(23% OFF)</td>\n",
       "      <td>Rs. 11931</td>\n",
       "      <td>Men React Infinity Running</td>\n",
       "    </tr>\n",
       "    <tr>\n",
       "      <th>1</th>\n",
       "      <td>Nike</td>\n",
       "      <td>(20% OFF)</td>\n",
       "      <td>Rs. 10796</td>\n",
       "      <td>Men JORDAN ZOOM '92 Shoes</td>\n",
       "    </tr>\n",
       "    <tr>\n",
       "      <th>2</th>\n",
       "      <td>Nike</td>\n",
       "      <td>(20% OFF)</td>\n",
       "      <td>Rs. 10796</td>\n",
       "      <td>Men AIR ZOOM VOMERO Running</td>\n",
       "    </tr>\n",
       "    <tr>\n",
       "      <th>3</th>\n",
       "      <td>ADIDAS</td>\n",
       "      <td>(30% OFF)</td>\n",
       "      <td>Rs. 8399</td>\n",
       "      <td>Men SOLAR DRIVE 19 M Running</td>\n",
       "    </tr>\n",
       "    <tr>\n",
       "      <th>4</th>\n",
       "      <td>Nike</td>\n",
       "      <td>(20% OFF)</td>\n",
       "      <td>Rs. 8236</td>\n",
       "      <td>ZOOM FREAK 2 Basketball Shoes</td>\n",
       "    </tr>\n",
       "    <tr>\n",
       "      <th>5</th>\n",
       "      <td>Nike</td>\n",
       "      <td>(23% OFF)</td>\n",
       "      <td>Rs. 9236</td>\n",
       "      <td>Men JORDAN DELTA Basketball</td>\n",
       "    </tr>\n",
       "    <tr>\n",
       "      <th>6</th>\n",
       "      <td>Nike</td>\n",
       "      <td>(20% OFF)</td>\n",
       "      <td>Rs. 8236</td>\n",
       "      <td>Women REACT Running Shoes</td>\n",
       "    </tr>\n",
       "    <tr>\n",
       "      <th>7</th>\n",
       "      <td>Nike</td>\n",
       "      <td>(25% OFF)</td>\n",
       "      <td>Rs. 8621</td>\n",
       "      <td>Men AIR ZOOM Running Shoes</td>\n",
       "    </tr>\n",
       "    <tr>\n",
       "      <th>8</th>\n",
       "      <td>Nike</td>\n",
       "      <td>(20% OFF)</td>\n",
       "      <td>Rs. 11996</td>\n",
       "      <td>AIR ZOOM PEGASUS Running Shoes</td>\n",
       "    </tr>\n",
       "    <tr>\n",
       "      <th>9</th>\n",
       "      <td>Nike</td>\n",
       "      <td>(20% OFF)</td>\n",
       "      <td>Rs. 7996</td>\n",
       "      <td>Men JOYRIDE Running Shoes</td>\n",
       "    </tr>\n",
       "    <tr>\n",
       "      <th>10</th>\n",
       "      <td>Hush Puppies</td>\n",
       "      <td>(25% OFF)</td>\n",
       "      <td>Rs. 9746</td>\n",
       "      <td>Men Solid Leather Formal Slip-Ons</td>\n",
       "    </tr>\n",
       "    <tr>\n",
       "      <th>11</th>\n",
       "      <td>Nike</td>\n",
       "      <td>(20% OFF)</td>\n",
       "      <td>Rs. 7996</td>\n",
       "      <td>Women PEGASUS 37 Running Shoes</td>\n",
       "    </tr>\n",
       "    <tr>\n",
       "      <th>12</th>\n",
       "      <td>Nike</td>\n",
       "      <td>(20% OFF)</td>\n",
       "      <td>Rs. 11199</td>\n",
       "      <td>Women AIR ZOOM Running Shoes</td>\n",
       "    </tr>\n",
       "    <tr>\n",
       "      <th>13</th>\n",
       "      <td>Nike</td>\n",
       "      <td>(20% OFF)</td>\n",
       "      <td>Rs. 7999</td>\n",
       "      <td>Men KD13 EP Basketball Shoes</td>\n",
       "    </tr>\n",
       "    <tr>\n",
       "      <th>14</th>\n",
       "      <td>Nike</td>\n",
       "      <td>(20% OFF)</td>\n",
       "      <td>Rs. 8799</td>\n",
       "      <td>Women AIR ZOOM Running Shoes</td>\n",
       "    </tr>\n",
       "    <tr>\n",
       "      <th>15</th>\n",
       "      <td>Hush Puppies</td>\n",
       "      <td>(17% OFF)</td>\n",
       "      <td>Rs. 6801</td>\n",
       "      <td>Men Colourblocked Driving Shoes</td>\n",
       "    </tr>\n",
       "    <tr>\n",
       "      <th>16</th>\n",
       "      <td>Hush Puppies</td>\n",
       "      <td>(20% OFF)</td>\n",
       "      <td>Rs. 7996</td>\n",
       "      <td>Men Solid Leather Formal Slip-Ons</td>\n",
       "    </tr>\n",
       "    <tr>\n",
       "      <th>17</th>\n",
       "      <td>ADIDAS Originals</td>\n",
       "      <td>(20% OFF)</td>\n",
       "      <td>Rs. 10399</td>\n",
       "      <td>Men NITE JOGGER Sneakers</td>\n",
       "    </tr>\n",
       "    <tr>\n",
       "      <th>18</th>\n",
       "      <td>Hush Puppies</td>\n",
       "      <td>(25% OFF)</td>\n",
       "      <td>Rs. 7499</td>\n",
       "      <td>Men Leather Slip-On Sneakers</td>\n",
       "    </tr>\n",
       "    <tr>\n",
       "      <th>19</th>\n",
       "      <td>Puma</td>\n",
       "      <td>(20% OFF)</td>\n",
       "      <td>Rs. 8796</td>\n",
       "      <td>Men SPEED 500 2 Running Shoes</td>\n",
       "    </tr>\n",
       "  </tbody>\n",
       "</table>\n",
       "</div>"
      ],
      "text/plain": [
       "             product   discount      price                              brand\n",
       "0               Nike  (23% OFF)  Rs. 11931         Men React Infinity Running\n",
       "1               Nike  (20% OFF)  Rs. 10796          Men JORDAN ZOOM '92 Shoes\n",
       "2               Nike  (20% OFF)  Rs. 10796        Men AIR ZOOM VOMERO Running\n",
       "3             ADIDAS  (30% OFF)   Rs. 8399       Men SOLAR DRIVE 19 M Running\n",
       "4               Nike  (20% OFF)   Rs. 8236      ZOOM FREAK 2 Basketball Shoes\n",
       "5               Nike  (23% OFF)   Rs. 9236        Men JORDAN DELTA Basketball\n",
       "6               Nike  (20% OFF)   Rs. 8236          Women REACT Running Shoes\n",
       "7               Nike  (25% OFF)   Rs. 8621         Men AIR ZOOM Running Shoes\n",
       "8               Nike  (20% OFF)  Rs. 11996     AIR ZOOM PEGASUS Running Shoes\n",
       "9               Nike  (20% OFF)   Rs. 7996          Men JOYRIDE Running Shoes\n",
       "10      Hush Puppies  (25% OFF)   Rs. 9746  Men Solid Leather Formal Slip-Ons\n",
       "11              Nike  (20% OFF)   Rs. 7996     Women PEGASUS 37 Running Shoes\n",
       "12              Nike  (20% OFF)  Rs. 11199       Women AIR ZOOM Running Shoes\n",
       "13              Nike  (20% OFF)   Rs. 7999       Men KD13 EP Basketball Shoes\n",
       "14              Nike  (20% OFF)   Rs. 8799       Women AIR ZOOM Running Shoes\n",
       "15      Hush Puppies  (17% OFF)   Rs. 6801    Men Colourblocked Driving Shoes\n",
       "16      Hush Puppies  (20% OFF)   Rs. 7996  Men Solid Leather Formal Slip-Ons\n",
       "17  ADIDAS Originals  (20% OFF)  Rs. 10399           Men NITE JOGGER Sneakers\n",
       "18      Hush Puppies  (25% OFF)   Rs. 7499       Men Leather Slip-On Sneakers\n",
       "19              Puma  (20% OFF)   Rs. 8796      Men SPEED 500 2 Running Shoes"
      ]
     },
     "execution_count": 20,
     "metadata": {},
     "output_type": "execute_result"
    }
   ],
   "source": [
    "g1"
   ]
  },
  {
   "cell_type": "code",
   "execution_count": null,
   "metadata": {},
   "outputs": [],
   "source": []
  }
 ],
 "metadata": {
  "kernelspec": {
   "display_name": "Python 3",
   "language": "python",
   "name": "python3"
  },
  "language_info": {
   "codemirror_mode": {
    "name": "ipython",
    "version": 3
   },
   "file_extension": ".py",
   "mimetype": "text/x-python",
   "name": "python",
   "nbconvert_exporter": "python",
   "pygments_lexer": "ipython3",
   "version": "3.8.3"
  }
 },
 "nbformat": 4,
 "nbformat_minor": 4
}
