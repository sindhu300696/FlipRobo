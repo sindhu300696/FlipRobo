{
 "cells": [
  {
   "cell_type": "code",
   "execution_count": 1,
   "metadata": {},
   "outputs": [],
   "source": [
    "import selenium\n",
    "import pandas as pd\n",
    "from selenium import webdriver"
   ]
  },
  {
   "cell_type": "code",
   "execution_count": 2,
   "metadata": {},
   "outputs": [],
   "source": [
    "driver=webdriver.Chrome(\"C:/Users/smanivasagan/chromedriver.exe\")\n",
    "driver.get(\"https://www.flipkart.com/\")"
   ]
  },
  {
   "cell_type": "code",
   "execution_count": 3,
   "metadata": {},
   "outputs": [],
   "source": [
    "search_job=driver.find_element_by_xpath(\"//input[@class='_3704LK']\")\n",
    "search_job.send_keys(\"Sneakers\")"
   ]
  },
  {
   "cell_type": "code",
   "execution_count": 5,
   "metadata": {},
   "outputs": [],
   "source": [
    "search_btn=driver.find_element_by_xpath(\"//button[@class='L0Z3Pu']\").click()"
   ]
  },
  {
   "cell_type": "code",
   "execution_count": 6,
   "metadata": {},
   "outputs": [],
   "source": [
    "url=\"https://www.flipkart.com/search?q=Sneakers&otracker=search&otracker1=search&marketplace=FLIPKART&as-show=off&as=off\""
   ]
  },
  {
   "cell_type": "code",
   "execution_count": 7,
   "metadata": {},
   "outputs": [],
   "source": [
    "driver.get(url)"
   ]
  },
  {
   "cell_type": "code",
   "execution_count": 8,
   "metadata": {},
   "outputs": [],
   "source": [
    "branda=[]\n",
    "product=[]\n",
    "price=[]\n",
    "discount=[]"
   ]
  },
  {
   "cell_type": "code",
   "execution_count": 9,
   "metadata": {},
   "outputs": [
    {
     "data": {
      "text/plain": [
       "[<selenium.webdriver.remote.webelement.WebElement (session=\"01078cdee9082bacf926d7652c1523eb\", element=\"877733ca-0ab0-4edc-a5d6-cca3cd174826\")>,\n",
       " <selenium.webdriver.remote.webelement.WebElement (session=\"01078cdee9082bacf926d7652c1523eb\", element=\"ff5e8383-013b-4fe3-aaa4-19dc5c3b1f24\")>,\n",
       " <selenium.webdriver.remote.webelement.WebElement (session=\"01078cdee9082bacf926d7652c1523eb\", element=\"3d67750b-30c4-4b6d-a883-661cb50eab9f\")>,\n",
       " <selenium.webdriver.remote.webelement.WebElement (session=\"01078cdee9082bacf926d7652c1523eb\", element=\"3977bc5e-51ef-4821-937a-53b86ad65b08\")>]"
      ]
     },
     "execution_count": 9,
     "metadata": {},
     "output_type": "execute_result"
    }
   ],
   "source": [
    "brand_tags=driver.find_elements_by_xpath(\"//div[@class='_2WkVRV']\")\n",
    "brand_tags[0:4]"
   ]
  },
  {
   "cell_type": "code",
   "execution_count": 10,
   "metadata": {},
   "outputs": [
    {
     "data": {
      "text/plain": [
       "['Kizaar', 'Fzzirok', 'Chevit', 'Chevit']"
      ]
     },
     "execution_count": 10,
     "metadata": {},
     "output_type": "execute_result"
    }
   ],
   "source": [
    "for i in brand_tags:\n",
    "    branda_name=i.text\n",
    "    branda.append(branda_name)\n",
    "branda[0:4]"
   ]
  },
  {
   "cell_type": "code",
   "execution_count": 11,
   "metadata": {},
   "outputs": [
    {
     "data": {
      "text/plain": [
       "[<selenium.webdriver.remote.webelement.WebElement (session=\"01078cdee9082bacf926d7652c1523eb\", element=\"1f99a671-0a7d-47fe-a0ce-138a8268c7c0\")>,\n",
       " <selenium.webdriver.remote.webelement.WebElement (session=\"01078cdee9082bacf926d7652c1523eb\", element=\"dfee5029-f9ea-4db3-b88d-c9da770baa1a\")>,\n",
       " <selenium.webdriver.remote.webelement.WebElement (session=\"01078cdee9082bacf926d7652c1523eb\", element=\"c2b432d3-2ebe-46a2-a0e4-8c2efc3d9421\")>,\n",
       " <selenium.webdriver.remote.webelement.WebElement (session=\"01078cdee9082bacf926d7652c1523eb\", element=\"196ecd1f-4463-485b-9038-74779e62c1c9\")>]"
      ]
     },
     "execution_count": 11,
     "metadata": {},
     "output_type": "execute_result"
    }
   ],
   "source": [
    "product_tags=driver.find_elements_by_xpath(\"//a[@class='IRpwTa']\")\n",
    "product_tags[0:4]"
   ]
  },
  {
   "cell_type": "code",
   "execution_count": 12,
   "metadata": {},
   "outputs": [
    {
     "data": {
      "text/plain": [
       "['Fashionable Casual, Canvas,official or Partywear Sneake...',\n",
       " 'Combo Pack of 4 Casual Sneakers With Sneakers For Men',\n",
       " 'Chevit Trendy Fashion Sports Combo Pack of 3 Pairs Outd...',\n",
       " 'Combo Pack of 4 Latest Collection Stylish Casual Loafer...']"
      ]
     },
     "execution_count": 12,
     "metadata": {},
     "output_type": "execute_result"
    }
   ],
   "source": [
    "for i in product_tags:\n",
    "    product_name=i.text\n",
    "    product.append(product_name)\n",
    "product[0:4]"
   ]
  },
  {
   "cell_type": "code",
   "execution_count": 13,
   "metadata": {},
   "outputs": [
    {
     "data": {
      "text/plain": [
       "[<selenium.webdriver.remote.webelement.WebElement (session=\"01078cdee9082bacf926d7652c1523eb\", element=\"20060165-70ac-4710-956b-e26aa1205339\")>,\n",
       " <selenium.webdriver.remote.webelement.WebElement (session=\"01078cdee9082bacf926d7652c1523eb\", element=\"bb6ffed3-96a2-4659-98e7-13ecee4d5842\")>,\n",
       " <selenium.webdriver.remote.webelement.WebElement (session=\"01078cdee9082bacf926d7652c1523eb\", element=\"05c77fb9-54bd-4a27-b4ed-0da16c387ccb\")>,\n",
       " <selenium.webdriver.remote.webelement.WebElement (session=\"01078cdee9082bacf926d7652c1523eb\", element=\"c7d3c37d-8735-414a-bf58-95ffa2d84b9f\")>]"
      ]
     },
     "execution_count": 13,
     "metadata": {},
     "output_type": "execute_result"
    }
   ],
   "source": [
    "price_tags=driver.find_elements_by_xpath(\"//div[@class='_30jeq3']\")\n",
    "price_tags[0:4]"
   ]
  },
  {
   "cell_type": "code",
   "execution_count": 14,
   "metadata": {},
   "outputs": [
    {
     "data": {
      "text/plain": [
       "['₹471', '₹399', '₹474', '₹597']"
      ]
     },
     "execution_count": 14,
     "metadata": {},
     "output_type": "execute_result"
    }
   ],
   "source": [
    "for i in price_tags:\n",
    "    price_name=i.text\n",
    "    price.append(price_name)\n",
    "price[0:4]"
   ]
  },
  {
   "cell_type": "code",
   "execution_count": 15,
   "metadata": {},
   "outputs": [
    {
     "data": {
      "text/plain": [
       "[<selenium.webdriver.remote.webelement.WebElement (session=\"01078cdee9082bacf926d7652c1523eb\", element=\"80e1e849-e14c-4055-a1e6-df794d8944f4\")>,\n",
       " <selenium.webdriver.remote.webelement.WebElement (session=\"01078cdee9082bacf926d7652c1523eb\", element=\"2b4e5925-4b09-40a3-a820-1098d8f4f4e5\")>,\n",
       " <selenium.webdriver.remote.webelement.WebElement (session=\"01078cdee9082bacf926d7652c1523eb\", element=\"52acc789-abc5-4248-862f-375d8468a0b6\")>,\n",
       " <selenium.webdriver.remote.webelement.WebElement (session=\"01078cdee9082bacf926d7652c1523eb\", element=\"f5cc7a96-d766-4276-9e85-49b7f8fd6ced\")>]"
      ]
     },
     "execution_count": 15,
     "metadata": {},
     "output_type": "execute_result"
    }
   ],
   "source": [
    "discount_tags=driver.find_elements_by_xpath(\"//div[@class='_3Ay6Sb']\")\n",
    "discount_tags[0:4]"
   ]
  },
  {
   "cell_type": "code",
   "execution_count": 16,
   "metadata": {},
   "outputs": [
    {
     "data": {
      "text/plain": [
       "['52% off', '60% off', '76% off', '66% off']"
      ]
     },
     "execution_count": 16,
     "metadata": {},
     "output_type": "execute_result"
    }
   ],
   "source": [
    "for i in discount_tags:\n",
    "    discount_name=i.text\n",
    "    discount.append(discount_name)\n",
    "discount[0:4]"
   ]
  },
  {
   "cell_type": "code",
   "execution_count": 17,
   "metadata": {},
   "outputs": [],
   "source": [
    "search_btn=driver.find_element_by_xpath(\"//a[@class='_1LKTO3']\").click()"
   ]
  },
  {
   "cell_type": "code",
   "execution_count": 21,
   "metadata": {},
   "outputs": [],
   "source": [
    "g1=pd.DataFrame({})\n",
    "g1['brand']=branda[0:30]\n",
    "g1['price']=price[0:30]\n",
    "g1['product']=product[0:30]\n",
    "g1['discount']=discount[0:30]"
   ]
  },
  {
   "cell_type": "code",
   "execution_count": 20,
   "metadata": {},
   "outputs": [
    {
     "data": {
      "text/html": [
       "<div>\n",
       "<style scoped>\n",
       "    .dataframe tbody tr th:only-of-type {\n",
       "        vertical-align: middle;\n",
       "    }\n",
       "\n",
       "    .dataframe tbody tr th {\n",
       "        vertical-align: top;\n",
       "    }\n",
       "\n",
       "    .dataframe thead th {\n",
       "        text-align: right;\n",
       "    }\n",
       "</style>\n",
       "<table border=\"1\" class=\"dataframe\">\n",
       "  <thead>\n",
       "    <tr style=\"text-align: right;\">\n",
       "      <th></th>\n",
       "      <th>product</th>\n",
       "      <th>price</th>\n",
       "      <th>brand</th>\n",
       "      <th>discount</th>\n",
       "    </tr>\n",
       "  </thead>\n",
       "  <tbody>\n",
       "    <tr>\n",
       "      <th>0</th>\n",
       "      <td>Kizaar</td>\n",
       "      <td>₹471</td>\n",
       "      <td>Fashionable Casual, Canvas,official or Partywe...</td>\n",
       "      <td>52% off</td>\n",
       "    </tr>\n",
       "    <tr>\n",
       "      <th>1</th>\n",
       "      <td>Fzzirok</td>\n",
       "      <td>₹399</td>\n",
       "      <td>Combo Pack of 4 Casual Sneakers With Sneakers ...</td>\n",
       "      <td>60% off</td>\n",
       "    </tr>\n",
       "    <tr>\n",
       "      <th>2</th>\n",
       "      <td>Chevit</td>\n",
       "      <td>₹474</td>\n",
       "      <td>Chevit Trendy Fashion Sports Combo Pack of 3 P...</td>\n",
       "      <td>76% off</td>\n",
       "    </tr>\n",
       "    <tr>\n",
       "      <th>3</th>\n",
       "      <td>Chevit</td>\n",
       "      <td>₹597</td>\n",
       "      <td>Combo Pack of 4 Latest Collection Stylish Casu...</td>\n",
       "      <td>66% off</td>\n",
       "    </tr>\n",
       "    <tr>\n",
       "      <th>4</th>\n",
       "      <td>Robbie jones</td>\n",
       "      <td>₹379</td>\n",
       "      <td>White Sneaker For Men's/Boy's Sneakers For Men</td>\n",
       "      <td>62% off</td>\n",
       "    </tr>\n",
       "    <tr>\n",
       "      <th>5</th>\n",
       "      <td>World Wear Footwear</td>\n",
       "      <td>₹474</td>\n",
       "      <td>White Sneakers Sneakers For Men</td>\n",
       "      <td>76% off</td>\n",
       "    </tr>\n",
       "    <tr>\n",
       "      <th>6</th>\n",
       "      <td>Shoes Bank</td>\n",
       "      <td>₹349</td>\n",
       "      <td>171 Smart Tan Lace-Ups Casuals for Men Sneaker...</td>\n",
       "      <td>65% off</td>\n",
       "    </tr>\n",
       "    <tr>\n",
       "      <th>7</th>\n",
       "      <td>Magnolia</td>\n",
       "      <td>₹293</td>\n",
       "      <td>Combo pack of 2 casual sneaker shoes for men S...</td>\n",
       "      <td>70% off</td>\n",
       "    </tr>\n",
       "    <tr>\n",
       "      <th>8</th>\n",
       "      <td>Chevit</td>\n",
       "      <td>₹236</td>\n",
       "      <td>Smart Casuals Canvas Shoes Combo pack of 2 Sne...</td>\n",
       "      <td>52% off</td>\n",
       "    </tr>\n",
       "    <tr>\n",
       "      <th>9</th>\n",
       "      <td>Oricum</td>\n",
       "      <td>₹398</td>\n",
       "      <td>Combo Pack of 2 Latest Collection Stylish Casu...</td>\n",
       "      <td>60% off</td>\n",
       "    </tr>\n",
       "    <tr>\n",
       "      <th>10</th>\n",
       "      <td>Chevit</td>\n",
       "      <td>₹299</td>\n",
       "      <td>Sneakers For Men</td>\n",
       "      <td>70% off</td>\n",
       "    </tr>\n",
       "    <tr>\n",
       "      <th>11</th>\n",
       "      <td>Axter</td>\n",
       "      <td>₹284</td>\n",
       "      <td>Men Boxer Sneakers For Men</td>\n",
       "      <td>71% off</td>\n",
       "    </tr>\n",
       "    <tr>\n",
       "      <th>12</th>\n",
       "      <td>LeatherKraft</td>\n",
       "      <td>₹299</td>\n",
       "      <td>Sneakers For Men</td>\n",
       "      <td>70% off</td>\n",
       "    </tr>\n",
       "    <tr>\n",
       "      <th>13</th>\n",
       "      <td>Longwalk</td>\n",
       "      <td>₹235</td>\n",
       "      <td>Casual shoes,Sneakers for men's,shoes for men'...</td>\n",
       "      <td>52% off</td>\n",
       "    </tr>\n",
       "    <tr>\n",
       "      <th>14</th>\n",
       "      <td>Rockfield</td>\n",
       "      <td>₹379</td>\n",
       "      <td>170 Smart Grey Lace-Ups Casuals for Men Sneake...</td>\n",
       "      <td>62% off</td>\n",
       "    </tr>\n",
       "    <tr>\n",
       "      <th>15</th>\n",
       "      <td>Restinfoot</td>\n",
       "      <td>₹369</td>\n",
       "      <td>Casual , Partywear Sneakers Shoes For Men's An...</td>\n",
       "      <td>63% off</td>\n",
       "    </tr>\n",
       "    <tr>\n",
       "      <th>16</th>\n",
       "      <td>Hotstyle</td>\n",
       "      <td>₹205</td>\n",
       "      <td>Casual Sneaker Sneakers For Men</td>\n",
       "      <td>58% off</td>\n",
       "    </tr>\n",
       "    <tr>\n",
       "      <th>17</th>\n",
       "      <td>Chevit</td>\n",
       "      <td>₹236</td>\n",
       "      <td>Speed Set of 5 Pairs Sneakers Outdoors Casuals...</td>\n",
       "      <td>52% off</td>\n",
       "    </tr>\n",
       "    <tr>\n",
       "      <th>18</th>\n",
       "      <td>D-SNEAKERZ</td>\n",
       "      <td>₹368</td>\n",
       "      <td>Fashion Outdoor Canvas Casual Light Weight Par...</td>\n",
       "      <td>44% off</td>\n",
       "    </tr>\n",
       "    <tr>\n",
       "      <th>19</th>\n",
       "      <td>Numenzo</td>\n",
       "      <td>₹569</td>\n",
       "      <td>5011-Latest Collection Stylish Casual Loafer S...</td>\n",
       "      <td>43% off</td>\n",
       "    </tr>\n",
       "    <tr>\n",
       "      <th>20</th>\n",
       "      <td>Chevit</td>\n",
       "      <td>₹759</td>\n",
       "      <td>Casual Loafers, Sneakers Shoes for Men Pack of...</td>\n",
       "      <td>69% off</td>\n",
       "    </tr>\n",
       "    <tr>\n",
       "      <th>21</th>\n",
       "      <td>Black Bottom</td>\n",
       "      <td>₹399</td>\n",
       "      <td>Sneakers for men(black_7) Sneakers For Men</td>\n",
       "      <td>60% off</td>\n",
       "    </tr>\n",
       "    <tr>\n",
       "      <th>22</th>\n",
       "      <td>World Wear Footwear</td>\n",
       "      <td>₹216</td>\n",
       "      <td>Trendy and Stylish Combo Pack of 3 Casual Shoe...</td>\n",
       "      <td>56% off</td>\n",
       "    </tr>\n",
       "    <tr>\n",
       "      <th>23</th>\n",
       "      <td>Longwalk</td>\n",
       "      <td>₹311</td>\n",
       "      <td>casual , Partywear Sneakers Shoes For Men's an...</td>\n",
       "      <td>37% off</td>\n",
       "    </tr>\n",
       "    <tr>\n",
       "      <th>24</th>\n",
       "      <td>Swiggy</td>\n",
       "      <td>₹759</td>\n",
       "      <td>520 Fashion &amp; Trendy Light Sneakers For Men</td>\n",
       "      <td>69% off</td>\n",
       "    </tr>\n",
       "    <tr>\n",
       "      <th>25</th>\n",
       "      <td>Believe</td>\n",
       "      <td>₹446</td>\n",
       "      <td>Synthetic Leather Casual Partywear Wedding Sne...</td>\n",
       "      <td>55% off</td>\n",
       "    </tr>\n",
       "    <tr>\n",
       "      <th>26</th>\n",
       "      <td>Aura</td>\n",
       "      <td>₹699</td>\n",
       "      <td>168 Smart Red Lace-Ups Casuals for Men Sneaker...</td>\n",
       "      <td>53% off</td>\n",
       "    </tr>\n",
       "    <tr>\n",
       "      <th>27</th>\n",
       "      <td>ZOVIM</td>\n",
       "      <td>₹378</td>\n",
       "      <td>Lightweight Combo Pack of 02 Trendy Sneakers C...</td>\n",
       "      <td>62% off</td>\n",
       "    </tr>\n",
       "    <tr>\n",
       "      <th>28</th>\n",
       "      <td>Stefano Rads</td>\n",
       "      <td>₹242</td>\n",
       "      <td>Stylish Combo Pack of 2 Sneakers For Men</td>\n",
       "      <td>65% off</td>\n",
       "    </tr>\n",
       "    <tr>\n",
       "      <th>29</th>\n",
       "      <td>Chevit</td>\n",
       "      <td>₹299</td>\n",
       "      <td>Casuals, Canvas, Partywear Sneakers For Men</td>\n",
       "      <td>40% off</td>\n",
       "    </tr>\n",
       "  </tbody>\n",
       "</table>\n",
       "</div>"
      ],
      "text/plain": [
       "                product price  \\\n",
       "0                Kizaar  ₹471   \n",
       "1               Fzzirok  ₹399   \n",
       "2                Chevit  ₹474   \n",
       "3                Chevit  ₹597   \n",
       "4          Robbie jones  ₹379   \n",
       "5   World Wear Footwear  ₹474   \n",
       "6            Shoes Bank  ₹349   \n",
       "7              Magnolia  ₹293   \n",
       "8                Chevit  ₹236   \n",
       "9                Oricum  ₹398   \n",
       "10               Chevit  ₹299   \n",
       "11                Axter  ₹284   \n",
       "12         LeatherKraft  ₹299   \n",
       "13             Longwalk  ₹235   \n",
       "14            Rockfield  ₹379   \n",
       "15           Restinfoot  ₹369   \n",
       "16             Hotstyle  ₹205   \n",
       "17               Chevit  ₹236   \n",
       "18           D-SNEAKERZ  ₹368   \n",
       "19              Numenzo  ₹569   \n",
       "20               Chevit  ₹759   \n",
       "21         Black Bottom  ₹399   \n",
       "22  World Wear Footwear  ₹216   \n",
       "23             Longwalk  ₹311   \n",
       "24               Swiggy  ₹759   \n",
       "25              Believe  ₹446   \n",
       "26                 Aura  ₹699   \n",
       "27                ZOVIM  ₹378   \n",
       "28         Stefano Rads  ₹242   \n",
       "29               Chevit  ₹299   \n",
       "\n",
       "                                                brand discount  \n",
       "0   Fashionable Casual, Canvas,official or Partywe...  52% off  \n",
       "1   Combo Pack of 4 Casual Sneakers With Sneakers ...  60% off  \n",
       "2   Chevit Trendy Fashion Sports Combo Pack of 3 P...  76% off  \n",
       "3   Combo Pack of 4 Latest Collection Stylish Casu...  66% off  \n",
       "4      White Sneaker For Men's/Boy's Sneakers For Men  62% off  \n",
       "5                     White Sneakers Sneakers For Men  76% off  \n",
       "6   171 Smart Tan Lace-Ups Casuals for Men Sneaker...  65% off  \n",
       "7   Combo pack of 2 casual sneaker shoes for men S...  70% off  \n",
       "8   Smart Casuals Canvas Shoes Combo pack of 2 Sne...  52% off  \n",
       "9   Combo Pack of 2 Latest Collection Stylish Casu...  60% off  \n",
       "10                                   Sneakers For Men  70% off  \n",
       "11                         Men Boxer Sneakers For Men  71% off  \n",
       "12                                   Sneakers For Men  70% off  \n",
       "13  Casual shoes,Sneakers for men's,shoes for men'...  52% off  \n",
       "14  170 Smart Grey Lace-Ups Casuals for Men Sneake...  62% off  \n",
       "15  Casual , Partywear Sneakers Shoes For Men's An...  63% off  \n",
       "16                    Casual Sneaker Sneakers For Men  58% off  \n",
       "17  Speed Set of 5 Pairs Sneakers Outdoors Casuals...  52% off  \n",
       "18  Fashion Outdoor Canvas Casual Light Weight Par...  44% off  \n",
       "19  5011-Latest Collection Stylish Casual Loafer S...  43% off  \n",
       "20  Casual Loafers, Sneakers Shoes for Men Pack of...  69% off  \n",
       "21         Sneakers for men(black_7) Sneakers For Men  60% off  \n",
       "22  Trendy and Stylish Combo Pack of 3 Casual Shoe...  56% off  \n",
       "23  casual , Partywear Sneakers Shoes For Men's an...  37% off  \n",
       "24        520 Fashion & Trendy Light Sneakers For Men  69% off  \n",
       "25  Synthetic Leather Casual Partywear Wedding Sne...  55% off  \n",
       "26  168 Smart Red Lace-Ups Casuals for Men Sneaker...  53% off  \n",
       "27  Lightweight Combo Pack of 02 Trendy Sneakers C...  62% off  \n",
       "28           Stylish Combo Pack of 2 Sneakers For Men  65% off  \n",
       "29        Casuals, Canvas, Partywear Sneakers For Men  40% off  "
      ]
     },
     "execution_count": 20,
     "metadata": {},
     "output_type": "execute_result"
    }
   ],
   "source": [
    "g1"
   ]
  },
  {
   "cell_type": "code",
   "execution_count": null,
   "metadata": {},
   "outputs": [],
   "source": []
  }
 ],
 "metadata": {
  "kernelspec": {
   "display_name": "Python 3",
   "language": "python",
   "name": "python3"
  },
  "language_info": {
   "codemirror_mode": {
    "name": "ipython",
    "version": 3
   },
   "file_extension": ".py",
   "mimetype": "text/x-python",
   "name": "python",
   "nbconvert_exporter": "python",
   "pygments_lexer": "ipython3",
   "version": "3.8.3"
  }
 },
 "nbformat": 4,
 "nbformat_minor": 4
}
