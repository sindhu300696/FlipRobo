{
 "cells": [
  {
   "cell_type": "code",
   "execution_count": 1,
   "metadata": {},
   "outputs": [
    {
     "name": "stdout",
     "output_type": "stream",
     "text": [
      "Requirement already satisfied: selenium in c:\\programdata\\anaconda3\\lib\\site-packages (3.141.0)\n",
      "Requirement already satisfied: urllib3 in c:\\programdata\\anaconda3\\lib\\site-packages (from selenium) (1.25.9)\n"
     ]
    }
   ],
   "source": [
    "! pip install selenium"
   ]
  },
  {
   "cell_type": "code",
   "execution_count": 2,
   "metadata": {},
   "outputs": [],
   "source": [
    "import selenium\n",
    "import pandas as pd\n",
    "from selenium import webdriver"
   ]
  },
  {
   "cell_type": "code",
   "execution_count": 3,
   "metadata": {},
   "outputs": [],
   "source": [
    "driver=webdriver.Chrome(\"C:/Users/smanivasagan/chromedriver.exe\")\n",
    "driver.get(\"https://www.glassdoor.co.in/index.htm\")"
   ]
  },
  {
   "cell_type": "code",
   "execution_count": 8,
   "metadata": {},
   "outputs": [],
   "source": [
    "search_job=driver.find_element_by_id(\"scKeyword\")\n",
    "search_job.send_keys(\"Data scientist\")"
   ]
  },
  {
   "cell_type": "code",
   "execution_count": 10,
   "metadata": {},
   "outputs": [],
   "source": [
    "search_job=driver.find_element_by_id(\"scLocation\")\n",
    "search_job.send_keys(\"Noida\")"
   ]
  },
  {
   "cell_type": "code",
   "execution_count": 11,
   "metadata": {},
   "outputs": [],
   "source": [
    "url=\"https://www.glassdoor.co.in/Job/noida-data-scientist-jobs-SRCH_IL.0,5_IC4477468_KO6,20.htm\""
   ]
  },
  {
   "cell_type": "code",
   "execution_count": 12,
   "metadata": {},
   "outputs": [],
   "source": [
    "driver.get(url)"
   ]
  },
  {
   "cell_type": "code",
   "execution_count": 13,
   "metadata": {},
   "outputs": [],
   "source": [
    "company=[]\n",
    "posted=[]\n",
    "rating=[]"
   ]
  },
  {
   "cell_type": "code",
   "execution_count": 15,
   "metadata": {},
   "outputs": [
    {
     "data": {
      "text/plain": [
       "[<selenium.webdriver.remote.webelement.WebElement (session=\"7881014209e0a64bdeec87f1790f4c0a\", element=\"36553dff-76a2-49b4-a959-20cd75a70dc5\")>,\n",
       " <selenium.webdriver.remote.webelement.WebElement (session=\"7881014209e0a64bdeec87f1790f4c0a\", element=\"60f8f77b-af2c-4325-bb06-876a1f96d2a6\")>,\n",
       " <selenium.webdriver.remote.webelement.WebElement (session=\"7881014209e0a64bdeec87f1790f4c0a\", element=\"c4a260ec-bc5f-4fee-be7c-04c98f8b382a\")>,\n",
       " <selenium.webdriver.remote.webelement.WebElement (session=\"7881014209e0a64bdeec87f1790f4c0a\", element=\"63d49098-062a-4932-93f2-fabdac887d94\")>]"
      ]
     },
     "execution_count": 15,
     "metadata": {},
     "output_type": "execute_result"
    }
   ],
   "source": [
    "companies_tags=driver.find_elements_by_xpath(\"//a[@class=' css-l2wjgv e1n63ojh0 jobLink']\")\n",
    "companies_tags[0:4]"
   ]
  },
  {
   "cell_type": "code",
   "execution_count": 17,
   "metadata": {},
   "outputs": [
    {
     "data": {
      "text/plain": [
       "['BlackRock',\n",
       " 'BlackRock',\n",
       " 'Srijan Technologies Pvt Ltd',\n",
       " 'Brickred',\n",
       " 'Adobe',\n",
       " 'Lumiq',\n",
       " 'Terra Economics & Analytics Lab (TEAL)',\n",
       " 'Fitfyles',\n",
       " 'Axslogic']"
      ]
     },
     "execution_count": 17,
     "metadata": {},
     "output_type": "execute_result"
    }
   ],
   "source": [
    "for i in companies_tags:\n",
    "    company_name=i.text\n",
    "    company.append(company_name)\n",
    "company[0:9]"
   ]
  },
  {
   "cell_type": "code",
   "execution_count": 20,
   "metadata": {},
   "outputs": [
    {
     "data": {
      "text/plain": [
       "[<selenium.webdriver.remote.webelement.WebElement (session=\"7881014209e0a64bdeec87f1790f4c0a\", element=\"9900420b-0d63-4e8d-9847-97eba0b36eea\")>,\n",
       " <selenium.webdriver.remote.webelement.WebElement (session=\"7881014209e0a64bdeec87f1790f4c0a\", element=\"fc91728c-c84f-4d15-bb59-4f4c6ed4a4cd\")>,\n",
       " <selenium.webdriver.remote.webelement.WebElement (session=\"7881014209e0a64bdeec87f1790f4c0a\", element=\"fc659376-9616-4d70-8a97-f374e36cd694\")>,\n",
       " <selenium.webdriver.remote.webelement.WebElement (session=\"7881014209e0a64bdeec87f1790f4c0a\", element=\"6d5ef74c-b027-4e8c-8672-d88b762b143b\")>]"
      ]
     },
     "execution_count": 20,
     "metadata": {},
     "output_type": "execute_result"
    }
   ],
   "source": [
    "posted_tags=driver.find_elements_by_xpath(\"//span[@class='css-19pjha7 e1cjmv6j1']\")\n",
    "posted_tags[0:4]"
   ]
  },
  {
   "cell_type": "code",
   "execution_count": 22,
   "metadata": {},
   "outputs": [
    {
     "data": {
      "text/plain": [
       "['4.1', '4.1', '3.9', '', '4.4', '3.6', '4.9', '4.3', '4.4']"
      ]
     },
     "execution_count": 22,
     "metadata": {},
     "output_type": "execute_result"
    }
   ],
   "source": [
    "for i in posted_tags:\n",
    "    posted_name=i.text\n",
    "    posted.append(posted_name)\n",
    "posted[0:9]"
   ]
  },
  {
   "cell_type": "code",
   "execution_count": 24,
   "metadata": {},
   "outputs": [
    {
     "data": {
      "text/plain": [
       "[<selenium.webdriver.remote.webelement.WebElement (session=\"7881014209e0a64bdeec87f1790f4c0a\", element=\"c317ac16-2f65-47b6-b3d4-b74e27eaa88c\")>,\n",
       " <selenium.webdriver.remote.webelement.WebElement (session=\"7881014209e0a64bdeec87f1790f4c0a\", element=\"28e4f49e-e877-42f0-886f-0c589e3bf3d8\")>,\n",
       " <selenium.webdriver.remote.webelement.WebElement (session=\"7881014209e0a64bdeec87f1790f4c0a\", element=\"355ed92a-9988-4eaa-995f-33edf5aee417\")>,\n",
       " <selenium.webdriver.remote.webelement.WebElement (session=\"7881014209e0a64bdeec87f1790f4c0a\", element=\"05f51935-876b-47d4-b4bf-70a3e3293141\")>]"
      ]
     },
     "execution_count": 24,
     "metadata": {},
     "output_type": "execute_result"
    }
   ],
   "source": [
    "review_tags=driver.find_elements_by_xpath(\"//div[@class='d-flex align-items-end pl-std css-mi55ob']\")\n",
    "review_tags[0:4]"
   ]
  },
  {
   "cell_type": "code",
   "execution_count": 25,
   "metadata": {},
   "outputs": [
    {
     "data": {
      "text/plain": [
       "['2d', '18d', '7d', '21d', '4d', '20d', '3d', '1d', '24h']"
      ]
     },
     "execution_count": 25,
     "metadata": {},
     "output_type": "execute_result"
    }
   ],
   "source": [
    "for i in review_tags:\n",
    "    review_name=i.text\n",
    "    rating.append(review_name)\n",
    "rating[0:9]"
   ]
  },
  {
   "cell_type": "code",
   "execution_count": 28,
   "metadata": {},
   "outputs": [],
   "source": [
    "jobs=pd.DataFrame({})\n",
    "jobs['title']=company[0:10]\n",
    "jobs['posted']=rating[0:10]\n",
    "jobs['rating']=posted[0:10]"
   ]
  },
  {
   "cell_type": "code",
   "execution_count": 29,
   "metadata": {},
   "outputs": [
    {
     "data": {
      "text/html": [
       "<div>\n",
       "<style scoped>\n",
       "    .dataframe tbody tr th:only-of-type {\n",
       "        vertical-align: middle;\n",
       "    }\n",
       "\n",
       "    .dataframe tbody tr th {\n",
       "        vertical-align: top;\n",
       "    }\n",
       "\n",
       "    .dataframe thead th {\n",
       "        text-align: right;\n",
       "    }\n",
       "</style>\n",
       "<table border=\"1\" class=\"dataframe\">\n",
       "  <thead>\n",
       "    <tr style=\"text-align: right;\">\n",
       "      <th></th>\n",
       "      <th>title</th>\n",
       "      <th>posted</th>\n",
       "      <th>rating</th>\n",
       "    </tr>\n",
       "  </thead>\n",
       "  <tbody>\n",
       "    <tr>\n",
       "      <th>0</th>\n",
       "      <td>BlackRock</td>\n",
       "      <td>2d</td>\n",
       "      <td>4.1</td>\n",
       "    </tr>\n",
       "    <tr>\n",
       "      <th>1</th>\n",
       "      <td>BlackRock</td>\n",
       "      <td>18d</td>\n",
       "      <td>4.1</td>\n",
       "    </tr>\n",
       "    <tr>\n",
       "      <th>2</th>\n",
       "      <td>Srijan Technologies Pvt Ltd</td>\n",
       "      <td>7d</td>\n",
       "      <td>3.9</td>\n",
       "    </tr>\n",
       "    <tr>\n",
       "      <th>3</th>\n",
       "      <td>Brickred</td>\n",
       "      <td>21d</td>\n",
       "      <td></td>\n",
       "    </tr>\n",
       "    <tr>\n",
       "      <th>4</th>\n",
       "      <td>Adobe</td>\n",
       "      <td>4d</td>\n",
       "      <td>4.4</td>\n",
       "    </tr>\n",
       "    <tr>\n",
       "      <th>5</th>\n",
       "      <td>Lumiq</td>\n",
       "      <td>20d</td>\n",
       "      <td>3.6</td>\n",
       "    </tr>\n",
       "    <tr>\n",
       "      <th>6</th>\n",
       "      <td>Terra Economics &amp; Analytics Lab (TEAL)</td>\n",
       "      <td>3d</td>\n",
       "      <td>4.9</td>\n",
       "    </tr>\n",
       "    <tr>\n",
       "      <th>7</th>\n",
       "      <td>Fitfyles</td>\n",
       "      <td>1d</td>\n",
       "      <td>4.3</td>\n",
       "    </tr>\n",
       "    <tr>\n",
       "      <th>8</th>\n",
       "      <td>Axslogic</td>\n",
       "      <td>24h</td>\n",
       "      <td>4.4</td>\n",
       "    </tr>\n",
       "    <tr>\n",
       "      <th>9</th>\n",
       "      <td>Microsoft</td>\n",
       "      <td>21d</td>\n",
       "      <td>3.7</td>\n",
       "    </tr>\n",
       "  </tbody>\n",
       "</table>\n",
       "</div>"
      ],
      "text/plain": [
       "                                    title posted rating\n",
       "0                               BlackRock     2d    4.1\n",
       "1                               BlackRock    18d    4.1\n",
       "2             Srijan Technologies Pvt Ltd     7d    3.9\n",
       "3                                Brickred    21d       \n",
       "4                                   Adobe     4d    4.4\n",
       "5                                   Lumiq    20d    3.6\n",
       "6  Terra Economics & Analytics Lab (TEAL)     3d    4.9\n",
       "7                                Fitfyles     1d    4.3\n",
       "8                                Axslogic    24h    4.4\n",
       "9                               Microsoft    21d    3.7"
      ]
     },
     "execution_count": 29,
     "metadata": {},
     "output_type": "execute_result"
    }
   ],
   "source": [
    "jobs"
   ]
  },
  {
   "cell_type": "code",
   "execution_count": null,
   "metadata": {},
   "outputs": [],
   "source": []
  }
 ],
 "metadata": {
  "kernelspec": {
   "display_name": "Python 3",
   "language": "python",
   "name": "python3"
  },
  "language_info": {
   "codemirror_mode": {
    "name": "ipython",
    "version": 3
   },
   "file_extension": ".py",
   "mimetype": "text/x-python",
   "name": "python",
   "nbconvert_exporter": "python",
   "pygments_lexer": "ipython3",
   "version": "3.8.3"
  }
 },
 "nbformat": 4,
 "nbformat_minor": 4
}
